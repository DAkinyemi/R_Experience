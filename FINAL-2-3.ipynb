{
 "cells": [
  {
   "cell_type": "markdown",
   "metadata": {},
   "source": [
    "# Predicting an interviewees type of work from their age, when they started working and their country of origin."
   ]
  },
  {
   "cell_type": "markdown",
   "metadata": {},
   "source": [
    "## Packages"
   ]
  },
  {
   "cell_type": "code",
   "execution_count": 1,
   "metadata": {
    "scrolled": true
   },
   "outputs": [
    {
     "name": "stderr",
     "output_type": "stream",
     "text": [
      "\n",
      "Attaching package: ‘igraph’\n",
      "\n",
      "The following objects are masked from ‘package:stats’:\n",
      "\n",
      "    decompose, spectrum\n",
      "\n",
      "The following object is masked from ‘package:base’:\n",
      "\n",
      "    union\n",
      "\n"
     ]
    }
   ],
   "source": [
    "library(\"igraph\")"
   ]
  },
  {
   "cell_type": "code",
   "execution_count": 2,
   "metadata": {},
   "outputs": [],
   "source": [
    "library('psych')"
   ]
  },
  {
   "cell_type": "markdown",
   "metadata": {},
   "source": [
    "## Calling in Data"
   ]
  },
  {
   "cell_type": "code",
   "execution_count": 3,
   "metadata": {},
   "outputs": [],
   "source": [
    "people <- read.csv(\"http://shroutdocs.org/notebooks/DCS104_f2018/people.csv\", header = TRUE)"
   ]
  },
  {
   "cell_type": "code",
   "execution_count": 4,
   "metadata": {},
   "outputs": [],
   "source": [
    "work <- read.csv(\"http://shroutdocs.org/notebooks/DCS104_f2018/work.csv\", header = TRUE)"
   ]
  },
  {
   "cell_type": "code",
   "execution_count": 5,
   "metadata": {},
   "outputs": [],
   "source": [
    "#people"
   ]
  },
  {
   "cell_type": "code",
   "execution_count": 6,
   "metadata": {},
   "outputs": [],
   "source": [
    "#work"
   ]
  },
  {
   "cell_type": "code",
   "execution_count": 7,
   "metadata": {},
   "outputs": [],
   "source": [
    "people_work <- merge(x = people, y = work, by.x = \"interviewee_index\", by.y = \"interviewee_index\")"
   ]
  },
  {
   "cell_type": "code",
   "execution_count": 8,
   "metadata": {},
   "outputs": [],
   "source": [
    "#people_work"
   ]
  },
  {
   "cell_type": "code",
   "execution_count": 9,
   "metadata": {},
   "outputs": [],
   "source": [
    "people_work <- people_work[which(people_work$type != \"NA\"), ]"
   ]
  },
  {
   "cell_type": "code",
   "execution_count": 10,
   "metadata": {},
   "outputs": [],
   "source": [
    "people_work <- people_work[which(people_work$years != \"NA\"), ]"
   ]
  },
  {
   "cell_type": "code",
   "execution_count": 11,
   "metadata": {},
   "outputs": [],
   "source": [
    "people_work <- people_work[which(people_work$start_y != \"NA\"), ]"
   ]
  },
  {
   "cell_type": "code",
   "execution_count": 12,
   "metadata": {},
   "outputs": [],
   "source": [
    "people_work <- people_work[which(people_work$birthplace_country != \"NA\"), ]"
   ]
  },
  {
   "cell_type": "code",
   "execution_count": 13,
   "metadata": {},
   "outputs": [],
   "source": [
    "#people_work"
   ]
  },
  {
   "cell_type": "code",
   "execution_count": 14,
   "metadata": {},
   "outputs": [],
   "source": [
    "needs <- c(\"birthplace_country\", \"years\", \"type\", \"start_y\")"
   ]
  },
  {
   "cell_type": "code",
   "execution_count": 15,
   "metadata": {},
   "outputs": [],
   "source": [
    "people_work <- people_work[needs]"
   ]
  },
  {
   "cell_type": "code",
   "execution_count": 16,
   "metadata": {},
   "outputs": [
    {
     "data": {
      "text/html": [
       "<dl class=dl-horizontal>\n",
       "\t<dt>Canada</dt>\n",
       "\t\t<dd>5</dd>\n",
       "\t<dt>Greece</dt>\n",
       "\t\t<dd>1</dd>\n",
       "\t<dt>USA</dt>\n",
       "\t\t<dd>47</dd>\n",
       "</dl>\n"
      ],
      "text/latex": [
       "\\begin{description*}\n",
       "\\item[Canada] 5\n",
       "\\item[Greece] 1\n",
       "\\item[USA] 47\n",
       "\\end{description*}\n"
      ],
      "text/markdown": [
       "Canada\n",
       ":   5Greece\n",
       ":   1USA\n",
       ":   47\n",
       "\n"
      ],
      "text/plain": [
       "Canada Greece    USA \n",
       "     5      1     47 "
      ]
     },
     "metadata": {},
     "output_type": "display_data"
    }
   ],
   "source": [
    "summary(people_work$birthplace_country)"
   ]
  },
  {
   "cell_type": "code",
   "execution_count": 17,
   "metadata": {},
   "outputs": [
    {
     "data": {
      "text/plain": [
       "   Min. 1st Qu.  Median    Mean 3rd Qu.    Max. \n",
       "   1927    1945    1948    1951    1957    1993 "
      ]
     },
     "metadata": {},
     "output_type": "display_data"
    }
   ],
   "source": [
    "summary(people_work$start_y)"
   ]
  },
  {
   "cell_type": "code",
   "execution_count": 18,
   "metadata": {},
   "outputs": [
    {
     "data": {
      "text/html": [
       "<dl class=dl-horizontal>\n",
       "\t<dt>Aircraft</dt>\n",
       "\t\t<dd>1</dd>\n",
       "\t<dt>Allen-Edmonds Store</dt>\n",
       "\t\t<dd>0</dd>\n",
       "\t<dt>Bakery</dt>\n",
       "\t\t<dd>0</dd>\n",
       "\t<dt>Bates Fabric</dt>\n",
       "\t\t<dd>1</dd>\n",
       "\t<dt>Bleachery</dt>\n",
       "\t\t<dd>1</dd>\n",
       "\t<dt>Brick</dt>\n",
       "\t\t<dd>7</dd>\n",
       "\t<dt>Drug and Sundry store</dt>\n",
       "\t\t<dd>1</dd>\n",
       "\t<dt>Hospital</dt>\n",
       "\t\t<dd>1</dd>\n",
       "\t<dt>Machine Shop</dt>\n",
       "\t\t<dd>0</dd>\n",
       "\t<dt>Mill</dt>\n",
       "\t\t<dd>1</dd>\n",
       "\t<dt>Shoe</dt>\n",
       "\t\t<dd>17</dd>\n",
       "\t<dt>Shoe Shop</dt>\n",
       "\t\t<dd>1</dd>\n",
       "\t<dt>Store (died and cut leather)</dt>\n",
       "\t\t<dd>0</dd>\n",
       "\t<dt>Textile Mill</dt>\n",
       "\t\t<dd>22</dd>\n",
       "\t<dt>tractor driver</dt>\n",
       "\t\t<dd>0</dd>\n",
       "</dl>\n"
      ],
      "text/latex": [
       "\\begin{description*}\n",
       "\\item[Aircraft] 1\n",
       "\\item[Allen-Edmonds Store] 0\n",
       "\\item[Bakery] 0\n",
       "\\item[Bates Fabric] 1\n",
       "\\item[Bleachery] 1\n",
       "\\item[Brick] 7\n",
       "\\item[Drug and Sundry store] 1\n",
       "\\item[Hospital] 1\n",
       "\\item[Machine Shop] 0\n",
       "\\item[Mill] 1\n",
       "\\item[Shoe] 17\n",
       "\\item[Shoe Shop] 1\n",
       "\\item[Store (died and cut leather)] 0\n",
       "\\item[Textile Mill] 22\n",
       "\\item[tractor driver] 0\n",
       "\\end{description*}\n"
      ],
      "text/markdown": [
       "Aircraft\n",
       ":   1Allen-Edmonds Store\n",
       ":   0Bakery\n",
       ":   0Bates Fabric\n",
       ":   1Bleachery\n",
       ":   1Brick\n",
       ":   7Drug and Sundry store\n",
       ":   1Hospital\n",
       ":   1Machine Shop\n",
       ":   0Mill\n",
       ":   1Shoe\n",
       ":   17Shoe Shop\n",
       ":   1Store (died and cut leather)\n",
       ":   0Textile Mill\n",
       ":   22tractor driver\n",
       ":   0\n",
       "\n"
      ],
      "text/plain": [
       "                    Aircraft          Allen-Edmonds Store \n",
       "                           1                            0 \n",
       "                      Bakery                 Bates Fabric \n",
       "                           0                            1 \n",
       "                   Bleachery                        Brick \n",
       "                           1                            7 \n",
       "       Drug and Sundry store                     Hospital \n",
       "                           1                            1 \n",
       "                Machine Shop                         Mill \n",
       "                           0                            1 \n",
       "                        Shoe                    Shoe Shop \n",
       "                          17                            1 \n",
       "Store (died and cut leather)                 Textile Mill \n",
       "                           0                           22 \n",
       "              tractor driver \n",
       "                           0 "
      ]
     },
     "metadata": {},
     "output_type": "display_data"
    }
   ],
   "source": [
    "summary(people_work$type)"
   ]
  },
  {
   "cell_type": "code",
   "execution_count": 19,
   "metadata": {},
   "outputs": [
    {
     "data": {
      "text/plain": [
       "   Min. 1st Qu.  Median    Mean 3rd Qu.    Max. \n",
       "   0.00    5.00   17.00   22.52   39.00   74.00 "
      ]
     },
     "metadata": {},
     "output_type": "display_data"
    }
   ],
   "source": [
    "summary(people_work$years)"
   ]
  },
  {
   "cell_type": "code",
   "execution_count": 20,
   "metadata": {},
   "outputs": [
    {
     "data": {
      "text/html": [
       "-0.0910086089222064"
      ],
      "text/latex": [
       "-0.0910086089222064"
      ],
      "text/markdown": [
       "-0.0910086089222064"
      ],
      "text/plain": [
       "[1] -0.09100861"
      ]
     },
     "metadata": {},
     "output_type": "display_data"
    }
   ],
   "source": [
    "cor(people_work$start_y, people_work$years)"
   ]
  },
  {
   "cell_type": "code",
   "execution_count": 21,
   "metadata": {},
   "outputs": [],
   "source": [
    "dummy_type <- as.data.frame(dummy.code(people_work$type))"
   ]
  },
  {
   "cell_type": "code",
   "execution_count": 22,
   "metadata": {},
   "outputs": [],
   "source": [
    "dummy_country <- as.data.frame(dummy.code(people_work$birthplace_country))"
   ]
  },
  {
   "cell_type": "code",
   "execution_count": 23,
   "metadata": {},
   "outputs": [
    {
     "data": {
      "text/html": [
       "<ol class=list-inline>\n",
       "\t<li>'Aircraft'</li>\n",
       "\t<li>'Allen-Edmonds Store'</li>\n",
       "\t<li>'Bakery'</li>\n",
       "\t<li>'Bates Fabric'</li>\n",
       "\t<li>'Bleachery'</li>\n",
       "\t<li>'Brick'</li>\n",
       "\t<li>'Drug and Sundry store'</li>\n",
       "\t<li>'Hospital'</li>\n",
       "\t<li>'Machine Shop'</li>\n",
       "\t<li>'Mill'</li>\n",
       "\t<li>'Shoe'</li>\n",
       "\t<li>'Shoe Shop'</li>\n",
       "\t<li>'Store (died and cut leather)'</li>\n",
       "\t<li>'Textile Mill'</li>\n",
       "\t<li>'tractor driver'</li>\n",
       "</ol>\n"
      ],
      "text/latex": [
       "\\begin{enumerate*}\n",
       "\\item 'Aircraft'\n",
       "\\item 'Allen-Edmonds Store'\n",
       "\\item 'Bakery'\n",
       "\\item 'Bates Fabric'\n",
       "\\item 'Bleachery'\n",
       "\\item 'Brick'\n",
       "\\item 'Drug and Sundry store'\n",
       "\\item 'Hospital'\n",
       "\\item 'Machine Shop'\n",
       "\\item 'Mill'\n",
       "\\item 'Shoe'\n",
       "\\item 'Shoe Shop'\n",
       "\\item 'Store (died and cut leather)'\n",
       "\\item 'Textile Mill'\n",
       "\\item 'tractor driver'\n",
       "\\end{enumerate*}\n"
      ],
      "text/markdown": [
       "1. 'Aircraft'\n",
       "2. 'Allen-Edmonds Store'\n",
       "3. 'Bakery'\n",
       "4. 'Bates Fabric'\n",
       "5. 'Bleachery'\n",
       "6. 'Brick'\n",
       "7. 'Drug and Sundry store'\n",
       "8. 'Hospital'\n",
       "9. 'Machine Shop'\n",
       "10. 'Mill'\n",
       "11. 'Shoe'\n",
       "12. 'Shoe Shop'\n",
       "13. 'Store (died and cut leather)'\n",
       "14. 'Textile Mill'\n",
       "15. 'tractor driver'\n",
       "\n",
       "\n"
      ],
      "text/plain": [
       " [1] \"Aircraft\"                     \"Allen-Edmonds Store\"         \n",
       " [3] \"Bakery\"                       \"Bates Fabric\"                \n",
       " [5] \"Bleachery\"                    \"Brick\"                       \n",
       " [7] \"Drug and Sundry store\"        \"Hospital\"                    \n",
       " [9] \"Machine Shop\"                 \"Mill\"                        \n",
       "[11] \"Shoe\"                         \"Shoe Shop\"                   \n",
       "[13] \"Store (died and cut leather)\" \"Textile Mill\"                \n",
       "[15] \"tractor driver\"              "
      ]
     },
     "metadata": {},
     "output_type": "display_data"
    },
    {
     "data": {
      "text/html": [
       "<ol class=list-inline>\n",
       "\t<li>'Canada'</li>\n",
       "\t<li>'Greece'</li>\n",
       "\t<li>'USA'</li>\n",
       "</ol>\n"
      ],
      "text/latex": [
       "\\begin{enumerate*}\n",
       "\\item 'Canada'\n",
       "\\item 'Greece'\n",
       "\\item 'USA'\n",
       "\\end{enumerate*}\n"
      ],
      "text/markdown": [
       "1. 'Canada'\n",
       "2. 'Greece'\n",
       "3. 'USA'\n",
       "\n",
       "\n"
      ],
      "text/plain": [
       "[1] \"Canada\" \"Greece\" \"USA\"   "
      ]
     },
     "metadata": {},
     "output_type": "display_data"
    }
   ],
   "source": [
    "names(dummy_type)\n",
    "names(dummy_country)"
   ]
  },
  {
   "cell_type": "code",
   "execution_count": 24,
   "metadata": {},
   "outputs": [],
   "source": [
    "people_work$Aircraft <- dummy_type$Aircraft\n",
    "people_work$AllenEdmonds <- dummy_type$'Allen-Edmonds Store'# Changed column name\n",
    "people_work$Bakery <- dummy_type$Bakery\n",
    "people_work$BatesFabric <- dummy_type$'Bates Fabric'\n",
    "people_work$Bleachery <- dummy_type$Bleachery\n",
    "people_work$Brick <- dummy_type$Brick\n",
    "people_work$DrugandSundry <- dummy_type$'Drug and Sundry store'# Changed column name\n",
    "people_work$Hospital <- dummy_type$Hospital\n",
    "people_work$MachineShop <- dummy_type$'Machine Shop' # Changed column name\n",
    "people_work$Mill <- dummy_type$Mill\n",
    "people_work$Shoe <- dummy_type$Shoe\n",
    "people_work$ShoeShop <- dummy_type$'Shoe Shop' # Changed column name\n",
    "people_work$Store_leather <- dummy_type$\"Store (died and cut leather)\" # Changed column name\n",
    "people_work$TextileMill <- dummy_type$\"Textile Mill\" #Changed column name\n",
    "people_work$Tractor <- dummy_type$\"tractor driver\" # Added to your dataframe\n",
    "people_work$Canada <- dummy_country$Canada\n",
    "people_work$Greece <- dummy_country$Greece\n",
    "people_work$USA <- dummy_country$USA"
   ]
  },
  {
   "cell_type": "code",
   "execution_count": 25,
   "metadata": {},
   "outputs": [],
   "source": [
    "linreg1 <- lm(start_y ~ Aircraft + AllenEdmonds + Bakery + BatesFabric + Bleachery + Brick + DrugandSundry + Hospital + MachineShop + Mill + Shoe + ShoeShop + Store_leather + TextileMill + Canada + Greece, data = people_work) "
   ]
  },
  {
   "cell_type": "markdown",
   "metadata": {},
   "source": [
    "I removed Tractor and Canada, since when we are using dummy variables, we always include one less than the total number of categories (becuase if Greece = 0 and USA = 0, then Canada must = 1)"
   ]
  },
  {
   "cell_type": "code",
   "execution_count": 26,
   "metadata": {},
   "outputs": [],
   "source": [
    "linreg2 <- lm(years ~ Aircraft + AllenEdmonds + Bakery + BatesFabric + Bleachery + Brick + DrugandSundry + Hospital + MachineShop + Mill + Shoe + ShoeShop + Store_leather + TextileMill + Canada + Greece, data = people_work)"
   ]
  },
  {
   "cell_type": "code",
   "execution_count": 27,
   "metadata": {},
   "outputs": [],
   "source": [
    "Aircraftreg <- lm(Aircraft ~ years + start_y + Canada + Greece, data = people_work)"
   ]
  },
  {
   "cell_type": "code",
   "execution_count": 28,
   "metadata": {},
   "outputs": [],
   "source": [
    "AllenEdmondsreg <- lm(AllenEdmonds ~ years + start_y + Canada + Greece, data = people_work)"
   ]
  },
  {
   "cell_type": "code",
   "execution_count": 29,
   "metadata": {},
   "outputs": [],
   "source": [
    "Bakeryreg <- lm(Bakery ~ years + start_y + Canada + Greece, data = people_work)"
   ]
  },
  {
   "cell_type": "code",
   "execution_count": 30,
   "metadata": {},
   "outputs": [],
   "source": [
    "BatesFabricreg <- lm(BatesFabric ~ years + start_y + Canada + Greece, data = people_work)"
   ]
  },
  {
   "cell_type": "code",
   "execution_count": 31,
   "metadata": {},
   "outputs": [],
   "source": [
    "Bleacheryreg <- lm(Bleachery ~ years + start_y + Canada + Greece, data = people_work)"
   ]
  },
  {
   "cell_type": "code",
   "execution_count": 32,
   "metadata": {},
   "outputs": [],
   "source": [
    "Bricksreg <- lm(Brick ~ years + start_y + Canada + Greece, data = people_work)"
   ]
  },
  {
   "cell_type": "code",
   "execution_count": 33,
   "metadata": {},
   "outputs": [],
   "source": [
    "DrugandSundryreg <- lm(DrugandSundry ~ years + start_y + Canada + Greece, data = people_work)"
   ]
  },
  {
   "cell_type": "code",
   "execution_count": 34,
   "metadata": {},
   "outputs": [],
   "source": [
    "Hospitalreg <- lm(Hospital ~ years + start_y + Canada + Greece, data = people_work)"
   ]
  },
  {
   "cell_type": "code",
   "execution_count": 35,
   "metadata": {},
   "outputs": [],
   "source": [
    "MachineShopreg <- lm(MachineShop ~ years + start_y + Canada + Greece, data = people_work)"
   ]
  },
  {
   "cell_type": "code",
   "execution_count": 36,
   "metadata": {},
   "outputs": [],
   "source": [
    "Millreg <- lm(Mill ~ years + start_y + Canada + Greece, data = people_work)"
   ]
  },
  {
   "cell_type": "code",
   "execution_count": 37,
   "metadata": {},
   "outputs": [],
   "source": [
    "Shoereg <- lm(Shoe ~ years + start_y + Canada + Greece, data = people_work)"
   ]
  },
  {
   "cell_type": "code",
   "execution_count": 38,
   "metadata": {},
   "outputs": [],
   "source": [
    "ShoeShopreg <- lm(ShoeShop ~ years + start_y + Canada + Greece, data = people_work)"
   ]
  },
  {
   "cell_type": "code",
   "execution_count": 39,
   "metadata": {},
   "outputs": [],
   "source": [
    "Store_leatherreg <- lm(Store_leather ~ years + start_y + Canada + Greece, data = people_work)"
   ]
  },
  {
   "cell_type": "code",
   "execution_count": 40,
   "metadata": {},
   "outputs": [],
   "source": [
    "TextileMillreg <- lm(TextileMill ~ years + start_y + Canada + Greece, data = people_work)"
   ]
  },
  {
   "cell_type": "markdown",
   "metadata": {},
   "source": [
    "## Application"
   ]
  },
  {
   "cell_type": "code",
   "execution_count": 41,
   "metadata": {},
   "outputs": [],
   "source": [
    "age = 47\n",
    "start_year = 1927\n",
    "FromCanada = 0\n",
    "FromGreece = 0 "
   ]
  },
  {
   "cell_type": "code",
   "execution_count": 42,
   "metadata": {
    "scrolled": true
   },
   "outputs": [
    {
     "data": {
      "text/plain": [
       "\n",
       "Call:\n",
       "lm(formula = Aircraft ~ years + start_y + Canada + Greece, data = people_work)\n",
       "\n",
       "Residuals:\n",
       "     Min       1Q   Median       3Q      Max \n",
       "-0.06545 -0.03911 -0.01903  0.00271  0.94600 \n",
       "\n",
       "Coefficients:\n",
       "              Estimate Std. Error t value Pr(>|t|)\n",
       "(Intercept)  3.5132276  3.1529555   1.114    0.271\n",
       "years       -0.0007676  0.0009947  -0.772    0.444\n",
       "start_y     -0.0017805  0.0016143  -1.103    0.276\n",
       "Canada      -0.0274124  0.0667934  -0.410    0.683\n",
       "Greece      -0.0585732  0.1448322  -0.404    0.688\n",
       "\n",
       "Residual standard error: 0.1404 on 48 degrees of freedom\n",
       "Multiple R-squared:  0.03581,\tAdjusted R-squared:  -0.04454 \n",
       "F-statistic: 0.4456 on 4 and 48 DF,  p-value: 0.775\n"
      ]
     },
     "metadata": {},
     "output_type": "display_data"
    }
   ],
   "source": [
    "summary(Aircraftreg)"
   ]
  },
  {
   "cell_type": "code",
   "execution_count": 43,
   "metadata": {},
   "outputs": [],
   "source": [
    "Aircrafttest <- function(age, start_year, FromCanada, FromGreece) {\n",
    "   100* (3.5132276 + (-0.0007676 * age) + (-0.0017805 * start_year) + (-0.0274124 * FromCanada) + (-0.0585732 * FromGreece))}"
   ]
  },
  {
   "cell_type": "code",
   "execution_count": 44,
   "metadata": {},
   "outputs": [
    {
     "data": {
      "text/plain": [
       "\n",
       "Call:\n",
       "lm(formula = BatesFabric ~ years + start_y + Canada + Greece, \n",
       "    data = people_work)\n",
       "\n",
       "Residuals:\n",
       "     Min       1Q   Median       3Q      Max \n",
       "-0.06428 -0.03657 -0.01596 -0.00432  0.95349 \n",
       "\n",
       "Coefficients:\n",
       "              Estimate Std. Error t value Pr(>|t|)\n",
       "(Intercept)  1.3931890  3.1654162   0.440    0.662\n",
       "years        0.0009875  0.0009986   0.989    0.328\n",
       "start_y     -0.0007142  0.0016207  -0.441    0.661\n",
       "Canada      -0.0303885  0.0670574  -0.453    0.652\n",
       "Greece      -0.0203485  0.1454046  -0.140    0.889\n",
       "\n",
       "Residual standard error: 0.1409 on 48 degrees of freedom\n",
       "Multiple R-squared:  0.02817,\tAdjusted R-squared:  -0.05281 \n",
       "F-statistic: 0.3478 on 4 and 48 DF,  p-value: 0.8442\n"
      ]
     },
     "metadata": {},
     "output_type": "display_data"
    }
   ],
   "source": [
    "summary(BatesFabricreg)"
   ]
  },
  {
   "cell_type": "code",
   "execution_count": 45,
   "metadata": {},
   "outputs": [],
   "source": [
    "BatesFabrictest <- function(age, start_year, FromCanada, FromGreece) {\n",
    "   100* (1.3931890 + (0.0009875 * age) + (-0.0007142 * start_year) + (-0.0303885 * FromCanada) + (-0.0203485 * FromGreece))}"
   ]
  },
  {
   "cell_type": "code",
   "execution_count": 46,
   "metadata": {},
   "outputs": [
    {
     "data": {
      "text/plain": [
       "\n",
       "Call:\n",
       "lm(formula = Bleachery ~ years + start_y + Canada + Greece, data = people_work)\n",
       "\n",
       "Residuals:\n",
       "     Min       1Q   Median       3Q      Max \n",
       "-0.07753 -0.04741 -0.02180  0.01128  0.91819 \n",
       "\n",
       "Coefficients:\n",
       "              Estimate Std. Error t value Pr(>|t|)\n",
       "(Intercept)  5.0795114  3.1062695   1.635    0.109\n",
       "years       -0.0008659  0.0009800  -0.884    0.381\n",
       "start_y     -0.0025819  0.0015904  -1.623    0.111\n",
       "Canada      -0.0314431  0.0658044  -0.478    0.635\n",
       "Greece      -0.0723294  0.1426876  -0.507    0.615\n",
       "\n",
       "Residual standard error: 0.1383 on 48 degrees of freedom\n",
       "Multiple R-squared:  0.06415,\tAdjusted R-squared:  -0.01384 \n",
       "F-statistic: 0.8226 on 4 and 48 DF,  p-value: 0.5173\n"
      ]
     },
     "metadata": {},
     "output_type": "display_data"
    }
   ],
   "source": [
    "summary(Bleacheryreg)"
   ]
  },
  {
   "cell_type": "code",
   "execution_count": 47,
   "metadata": {},
   "outputs": [],
   "source": [
    "Bleacheryregtest <- function(age, start_year, FromCanada, FromGreece) {\n",
    "   100* (5.0795114 + (-0.0008659 * age) + (-0.0025819 * start_year) + (-0.0314431 * FromCanada) + (-0.0723294 * FromGreece))}"
   ]
  },
  {
   "cell_type": "code",
   "execution_count": 48,
   "metadata": {},
   "outputs": [
    {
     "data": {
      "text/plain": [
       "\n",
       "Call:\n",
       "lm(formula = Brick ~ years + start_y + Canada + Greece, data = people_work)\n",
       "\n",
       "Residuals:\n",
       "     Min       1Q   Median       3Q      Max \n",
       "-0.29680 -0.15675 -0.12294 -0.06578  0.97245 \n",
       "\n",
       "Coefficients:\n",
       "             Estimate Std. Error t value Pr(>|t|)\n",
       "(Intercept) -5.051264   7.857104  -0.643    0.523\n",
       "years       -0.002124   0.002479  -0.857    0.396\n",
       "start_y      0.002678   0.004023   0.666    0.509\n",
       "Canada       0.098402   0.166448   0.591    0.557\n",
       "Greece      -0.111781   0.360919  -0.310    0.758\n",
       "\n",
       "Residual standard error: 0.3498 on 48 degrees of freedom\n",
       "Multiple R-squared:  0.03306,\tAdjusted R-squared:  -0.04752 \n",
       "F-statistic: 0.4102 on 4 and 48 DF,  p-value: 0.8004\n"
      ]
     },
     "metadata": {},
     "output_type": "display_data"
    }
   ],
   "source": [
    "summary(Bricksreg)"
   ]
  },
  {
   "cell_type": "code",
   "execution_count": 49,
   "metadata": {},
   "outputs": [],
   "source": [
    "Bricksregtest <- function(age, start_year, FromCanada, FromGreece) {\n",
    "   100* (-5.051264 + (-0.002124 * age) + (0.002678 * start_year) + (0.098402 * FromCanada) + (-0.111781 * FromGreece))}"
   ]
  },
  {
   "cell_type": "code",
   "execution_count": 50,
   "metadata": {},
   "outputs": [
    {
     "data": {
      "text/plain": [
       "\n",
       "Call:\n",
       "lm(formula = DrugandSundry ~ years + start_y + Canada + Greece, \n",
       "    data = people_work)\n",
       "\n",
       "Residuals:\n",
       "     Min       1Q   Median       3Q      Max \n",
       "-0.05274 -0.03945 -0.01433 -0.00381  0.95372 \n",
       "\n",
       "Coefficients:\n",
       "              Estimate Std. Error t value Pr(>|t|)\n",
       "(Intercept)  1.5646861  3.1657898   0.494    0.623\n",
       "years       -0.0010548  0.0009987  -1.056    0.296\n",
       "start_y     -0.0007788  0.0016209  -0.480    0.633\n",
       "Canada      -0.0202687  0.0670653  -0.302    0.764\n",
       "Greece      -0.0464103  0.1454217  -0.319    0.751\n",
       "\n",
       "Residual standard error: 0.141 on 48 degrees of freedom\n",
       "Multiple R-squared:  0.02794,\tAdjusted R-squared:  -0.05306 \n",
       "F-statistic: 0.3449 on 4 and 48 DF,  p-value: 0.8462\n"
      ]
     },
     "metadata": {},
     "output_type": "display_data"
    }
   ],
   "source": [
    "summary(DrugandSundryreg)"
   ]
  },
  {
   "cell_type": "code",
   "execution_count": 51,
   "metadata": {},
   "outputs": [],
   "source": [
    "DrugandSundryregtest <- function(age, start_year, FromCanada, FromGreece) {\n",
    "   100* (1.5646861 + (-0.0010548 * age) + (-0.0007788 * start_year) + (-0.0202687 * FromCanada) + (-0.0464103 * FromGreece))}"
   ]
  },
  {
   "cell_type": "code",
   "execution_count": 52,
   "metadata": {},
   "outputs": [
    {
     "data": {
      "text/plain": [
       "\n",
       "Call:\n",
       "lm(formula = Hospital ~ years + start_y + Canada + Greece, data = people_work)\n",
       "\n",
       "Residuals:\n",
       "     Min       1Q   Median       3Q      Max \n",
       "-0.05600 -0.04080 -0.01337 -0.00340  0.94985 \n",
       "\n",
       "Coefficients:\n",
       "              Estimate Std. Error t value Pr(>|t|)\n",
       "(Intercept)  1.8397171  3.1593674   0.582    0.563\n",
       "years       -0.0011130  0.0009967  -1.117    0.270\n",
       "start_y     -0.0009190  0.0016176  -0.568    0.573\n",
       "Canada      -0.0207636  0.0669292  -0.310    0.758\n",
       "Greece      -0.0493209  0.1451267  -0.340    0.735\n",
       "\n",
       "Residual standard error: 0.1407 on 48 degrees of freedom\n",
       "Multiple R-squared:  0.03188,\tAdjusted R-squared:  -0.0488 \n",
       "F-statistic: 0.3952 on 4 and 48 DF,  p-value: 0.8111\n"
      ]
     },
     "metadata": {},
     "output_type": "display_data"
    }
   ],
   "source": [
    "summary(Hospitalreg)"
   ]
  },
  {
   "cell_type": "code",
   "execution_count": 53,
   "metadata": {},
   "outputs": [],
   "source": [
    "Hospitalregtest <- function(age, start_year, FromCanada, FromGreece) {\n",
    "   100* (1.8397171 + (-0.0011130 * age) + (-0.0009190 * start_year) + (-0.0207636 * FromCanada) + (-0.0493209 * FromGreece))}"
   ]
  },
  {
   "cell_type": "code",
   "execution_count": 54,
   "metadata": {},
   "outputs": [
    {
     "data": {
      "text/plain": [
       "\n",
       "Call:\n",
       "lm(formula = Mill ~ years + start_y + Canada + Greece, data = people_work)\n",
       "\n",
       "Residuals:\n",
       "     Min       1Q   Median       3Q      Max \n",
       "-0.07753 -0.04491 -0.01729  0.00782  0.92496 \n",
       "\n",
       "Coefficients:\n",
       "              Estimate Std. Error t value Pr(>|t|)\n",
       "(Intercept)  4.3718815  3.1176881   1.402    0.167\n",
       "years       -0.0010427  0.0009836  -1.060    0.294\n",
       "start_y     -0.0022173  0.0015963  -1.389    0.171\n",
       "Canada      -0.0284723  0.0660463  -0.431    0.668\n",
       "Greece      -0.0687879  0.1432122  -0.480    0.633\n",
       "\n",
       "Residual standard error: 0.1388 on 48 degrees of freedom\n",
       "Multiple R-squared:  0.05726,\tAdjusted R-squared:  -0.02131 \n",
       "F-statistic: 0.7288 on 4 and 48 DF,  p-value: 0.5767\n"
      ]
     },
     "metadata": {},
     "output_type": "display_data"
    }
   ],
   "source": [
    "summary(Millreg)"
   ]
  },
  {
   "cell_type": "code",
   "execution_count": 55,
   "metadata": {},
   "outputs": [],
   "source": [
    "Millregtest <- function(age, start_year, FromCanada, FromGreece) {\n",
    "   100* (4.3718815 + (-0.0010427 * age) + (-0.0022173 * start_year) + (-0.0284723 * FromCanada) + (-0.068787 * FromGreece))}"
   ]
  },
  {
   "cell_type": "code",
   "execution_count": 56,
   "metadata": {},
   "outputs": [
    {
     "data": {
      "text/plain": [
       "\n",
       "Call:\n",
       "lm(formula = Shoe ~ years + start_y + Canada + Greece, data = people_work)\n",
       "\n",
       "Residuals:\n",
       "    Min      1Q  Median      3Q     Max \n",
       "-0.6068 -0.3151 -0.2116  0.5672  0.7960 \n",
       "\n",
       "Coefficients:\n",
       "              Estimate Std. Error t value Pr(>|t|)\n",
       "(Intercept) -10.662839  10.571688  -1.009    0.318\n",
       "years         0.003151   0.003335   0.945    0.349\n",
       "start_y       0.005580   0.005413   1.031    0.308\n",
       "Canada        0.317529   0.223955   1.418    0.163\n",
       "Greece       -0.171834   0.485614  -0.354    0.725\n",
       "\n",
       "Residual standard error: 0.4707 on 48 degrees of freedom\n",
       "Multiple R-squared:  0.07898,\tAdjusted R-squared:  0.002229 \n",
       "F-statistic: 1.029 on 4 and 48 DF,  p-value: 0.402\n"
      ]
     },
     "metadata": {},
     "output_type": "display_data"
    }
   ],
   "source": [
    "summary(Shoereg)"
   ]
  },
  {
   "cell_type": "code",
   "execution_count": 57,
   "metadata": {},
   "outputs": [],
   "source": [
    "Shoeregtest <- function(age, start_year, FromCanada, FromGreece) {\n",
    "   100* (-10.662839 + (0.003151 * age) + (0.005580 * start_year) + (0.317529 * FromCanada) + (-0.171834 * FromGreece))}"
   ]
  },
  {
   "cell_type": "code",
   "execution_count": 58,
   "metadata": {},
   "outputs": [
    {
     "data": {
      "text/plain": [
       "\n",
       "Call:\n",
       "lm(formula = ShoeShop ~ years + start_y + Canada + Greece, data = people_work)\n",
       "\n",
       "Residuals:\n",
       "     Min       1Q   Median       3Q      Max \n",
       "-0.02739 -0.02320 -0.01994 -0.01861  0.97806 \n",
       "\n",
       "Coefficients:\n",
       "              Estimate Std. Error t value Pr(>|t|)\n",
       "(Intercept)  0.4039842  3.2059309   0.126    0.900\n",
       "years        0.0001239  0.0010114   0.123    0.903\n",
       "start_y     -0.0001975  0.0016415  -0.120    0.905\n",
       "Canada      -0.0230307  0.0679157  -0.339    0.736\n",
       "Greece      -0.0228492  0.1472656  -0.155    0.877\n",
       "\n",
       "Residual standard error: 0.1427 on 48 degrees of freedom\n",
       "Multiple R-squared:  0.003134,\tAdjusted R-squared:  -0.07994 \n",
       "F-statistic: 0.03773 on 4 and 48 DF,  p-value: 0.9972\n"
      ]
     },
     "metadata": {},
     "output_type": "display_data"
    }
   ],
   "source": [
    "summary(ShoeShopreg)"
   ]
  },
  {
   "cell_type": "code",
   "execution_count": 59,
   "metadata": {},
   "outputs": [],
   "source": [
    "ShoeShopregtest <- function(age, start_year, FromCanada, FromGreece) {\n",
    "   100* (0.4039842 + (0.0001239 * age) + (-0.0001975 * start_year) + (-0.0230307 * FromCanada) + (-0.0228492 * FromGreece))}"
   ]
  },
  {
   "cell_type": "code",
   "execution_count": 60,
   "metadata": {},
   "outputs": [
    {
     "data": {
      "text/plain": [
       "\n",
       "Call:\n",
       "lm(formula = TextileMill ~ years + start_y + Canada + Greece, \n",
       "    data = people_work)\n",
       "\n",
       "Residuals:\n",
       "    Min      1Q  Median      3Q     Max \n",
       "-0.5296 -0.3906 -0.3615  0.5429  0.7825 \n",
       "\n",
       "Coefficients:\n",
       "              Estimate Std. Error t value Pr(>|t|)\n",
       "(Intercept) -1.4520945 11.2956516  -0.129    0.898\n",
       "years        0.0027054  0.0035636   0.759    0.451\n",
       "start_y      0.0009312  0.0057834   0.161    0.873\n",
       "Canada      -0.2341516  0.2392914  -0.979    0.333\n",
       "Greece       0.6222351  0.5188700   1.199    0.236\n",
       "\n",
       "Residual standard error: 0.5029 on 48 degrees of freedom\n",
       "Multiple R-squared:  0.05644,\tAdjusted R-squared:  -0.02219 \n",
       "F-statistic: 0.7178 on 4 and 48 DF,  p-value: 0.584\n"
      ]
     },
     "metadata": {},
     "output_type": "display_data"
    }
   ],
   "source": [
    "summary(TextileMillreg)"
   ]
  },
  {
   "cell_type": "code",
   "execution_count": 61,
   "metadata": {},
   "outputs": [],
   "source": [
    "TextileMillregtest <- function(age, start_year, FromCanada, FromGreece) {\n",
    "   100* (-1.4520945 + (0.0027054 * age) + (0.0009312 * start_year) + (-0.2341516 * FromCanada) + (0.6222351 * FromGreece))}"
   ]
  },
  {
   "cell_type": "markdown",
   "metadata": {},
   "source": [
    "## Final Product"
   ]
  },
  {
   "cell_type": "code",
   "execution_count": 62,
   "metadata": {},
   "outputs": [],
   "source": [
    "age = 47\n",
    "start_year = 1927\n",
    "FromCanada = 0\n",
    "FromGreece = 0 "
   ]
  },
  {
   "cell_type": "code",
   "execution_count": 63,
   "metadata": {},
   "outputs": [],
   "source": [
    "final_test <- function(age, start_year, FromCanada, FromGreece) {\n",
    "    print(paste0(\"Aircraft Percentage: \",Aircrafttest(age,start_year,FromCanada,FromGreece)))\n",
    "    print(paste0(\"Bates Fabric Percentage: \",BatesFabrictest(age,start_year,FromCanada,FromGreece)))\n",
    "    print(paste0(\"Bleachery Percentage: \",Bleacheryregtest(age,start_year,FromCanada,FromGreece)))\n",
    "    print(paste0(\"Bricks Percentage: \",Bricksregtest(age,start_year,FromCanada,FromGreece)))\n",
    "    print(paste0(\"Drug and Sundry Percentage: \",DrugandSundryregtest(age,start_year,FromCanada,FromGreece)))\n",
    "    print(paste0(\"Hospital Percentage: \",Hospitalregtest(age,start_year,FromCanada,FromGreece)))\n",
    "    print(paste0(\"Mill Percentage: \",Millregtest(age,start_year,FromCanada,FromGreece)))\n",
    "    print(paste0(\"Shoe Percentage: \",Shoeregtest(age,start_year,FromCanada,FromGreece)))\n",
    "    print(paste0(\"Shoe Shope Percentage: \",ShoeShopregtest(age,start_year,FromCanada,FromGreece)))\n",
    "    print(paste0(\"Textile Mill Percentage: \",TextileMillregtest(age,start_year,FromCanada,FromGreece)))\n",
    "}"
   ]
  },
  {
   "cell_type": "code",
   "execution_count": 64,
   "metadata": {},
   "outputs": [
    {
     "name": "stdout",
     "output_type": "stream",
     "text": [
      "[1] \"Aircraft Percentage: 4.61269000000004\"\n",
      "[1] \"Bates Fabric Percentage: 6.33381\"\n",
      "[1] \"Bleachery Percentage: 6.34928000000006\"\n",
      "[1] \"Bricks Percentage: 0.941400000000048\"\n",
      "[1] \"Drug and Sundry Percentage: 1.43629000000001\"\n",
      "[1] \"Hospital Percentage: 1.64931000000001\"\n",
      "[1] \"Mill Percentage: 5.01374999999991\"\n",
      "[1] \"Shoe Percentage: 23.7918000000001\"\n",
      "[1] \"Shoe Shope Percentage: 2.9225\"\n",
      "[1] \"Textile Mill Percentage: 46.94817\"\n"
     ]
    }
   ],
   "source": [
    "final_test(age,start_year,FromCanada,FromGreece)"
   ]
  }
 ],
 "metadata": {
  "kernelspec": {
   "display_name": "R",
   "language": "R",
   "name": "ir"
  },
  "language_info": {
   "codemirror_mode": "r",
   "file_extension": ".r",
   "mimetype": "text/x-r-source",
   "name": "R",
   "pygments_lexer": "r",
   "version": "3.4.1"
  }
 },
 "nbformat": 4,
 "nbformat_minor": 2
}
